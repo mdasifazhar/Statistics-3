{
 "cells": [
  {
   "cell_type": "markdown",
   "metadata": {},
   "source": [
    "###### Problem Statement 1:\n",
    "###### Blood glucose levels for obese patients have a mean of 100 with a standard deviation of 15. A researcher thinks that a diet high in raw cornstarch will have a positive effect on blood glucose levels. A sample of 36 patients who have tried the raw cornstarch diet have a mean glucose level of 108. Test the hypothesis that the raw cornstarch had an effect or not."
   ]
  },
  {
   "cell_type": "markdown",
   "metadata": {},
   "source": [
    "Step-1: Hypotheses- The population mean is 100.     H0: μ= 100 H1: μ > 100\n",
    "\n",
    "Step-2: Set up the significance level. It is not given in the problem so let’s assume it as 5% (0.05).\n",
    "\n",
    "Step-3: Compute the random chance probability using z score and z-table.\n",
    "\n",
    "z = (x - mean)/(standard deviation/sqrt(36))\n",
    "\n",
    "For this set of data: z= (108-100) / (15/√36)=3.20\n",
    "\n",
    "You can look at the probability by looking at z- table and p-value associated with 3.20 is 0.9993 i.e. probability of having value less than 108 is 0.9993 and more than or equals to 108 is (1-0.9993)=0.0007.\n",
    "\n",
    "Step-4: It is less than 0.05 so we will reject the Null hypothesis i.e. there is raw cornstarch effect.\n",
    "\n",
    "Note: Setting significance level can also be done using z-value known as critical value. Find out the z- value of 5% probability and it is 1.65 (positive or negative, in any direction). Now we can compare calculated z-value with critical value to make a decision."
   ]
  },
  {
   "cell_type": "code",
   "execution_count": 11,
   "metadata": {},
   "outputs": [
    {
     "data": {
      "text/plain": [
       "3.2"
      ]
     },
     "execution_count": 11,
     "metadata": {},
     "output_type": "execute_result"
    }
   ],
   "source": [
    "import math\n",
    "import scipy.stats as st\n",
    "# Population Mean \n",
    "m = 100\n",
    "\n",
    "# Gluclose Level Gl let be x\n",
    "x = 108\n",
    "\n",
    "# Standard Deviation S\n",
    "s = 15\n",
    "\n",
    "# Sample Patients\n",
    "y = 36\n",
    "\n",
    "# z = (x - mean)/(standard deviation/sqrt(36))\n",
    "z = (108 - 100)/(15/math.sqrt(36))\n",
    "z"
   ]
  },
  {
   "cell_type": "code",
   "execution_count": 4,
   "metadata": {},
   "outputs": [
    {
     "data": {
      "text/plain": [
       "0.9993128620620841"
      ]
     },
     "execution_count": 4,
     "metadata": {},
     "output_type": "execute_result"
    }
   ],
   "source": [
    "st.norm.cdf(z)"
   ]
  },
  {
   "cell_type": "markdown",
   "metadata": {},
   "source": [
    "probability of having value less than 108 is 0.9993 and more than or equals to 108 is (1-0.9993)=0.0007. \n",
    "It is less than 0.05 so we will reject the Null hypothesis i.e. there is raw cornstarch effect. "
   ]
  },
  {
   "cell_type": "markdown",
   "metadata": {},
   "source": [
    "###### Problem Statement 2:\n",
    "###### In one state, 52% of the voters are Republicans, and 48% are Democrats. In a second state, 47% of the voters are Republicans, and 53% are Democrats. Suppose a simple random sample of 100 voters are surveyed from each state.\n",
    "###### What is the probability that the survey will show a greater percentage of Republican voters in the second state than in the first state?"
   ]
  },
  {
   "cell_type": "markdown",
   "metadata": {},
   "source": [
    "Let P1 & P2 are the Republican voters in first state(S1) and second state(S2).\n",
    "\n",
    "n1 & n2 are sample voters from first and second state .i.e, (n1=n2=100)\n",
    "\n",
    "Verify samples from each population are big enough (greater than 10) to model differences with a normal distribution. \n",
    "First State:-\n",
    "n1P1 = 100*0.52 = 52, \n",
    "n1(1 - P1) = 100*0.48 = 48,\n",
    "\n",
    "Second State:-\n",
    "n2P2 = 100*0.47 = 47,\n",
    "n2(1 - P2) = 100*0.53 = 53\n",
    "\n",
    "Find the mean of the difference in sample proportions: E(p1 - p2) = P1 - P2 = 0.52 - 0.47 = 0.05.\n",
    "\n",
    "Find the standard deviation of the difference:\n",
    "\n",
    "σd1(S1) = sqrt{ [ P1(1 - P1) / n1 ] + [ P2(1 - P2) / n2 ] }\n",
    "\n",
    "σd2(S2) = sqrt{ [ (0.52)(0.48) / 100 ] + [ (0.47)(0.53) / 100 ] }\n",
    "\n",
    "σd = sqrt (0.002496 + 0.002491) = sqrt(0.004987) = 0.0706\n",
    "\n",
    "Find the probability. This problem requires us to find the probability that p1 is less than p2. This is equivalent to finding the probability that p1 - p2 is less than zero. To find this probability, we need to transform the random variable (p1 - p2) into a z-score.\n",
    "\n",
    "That transformation appears below.\n",
    "\n",
    "zp1 - p2 = (x - μp1 - p2) / σd = = (0 - 0.05)/0.0706 = -0.7082\n",
    "\n",
    "Using Normal Distribution Calculator, we find\n",
    "\n",
    "P(z <=0.7082) = 0.24\n",
    "\n",
    "the probability of a z-score being -0.7082 or less is 0.24\n",
    "\n",
    "Therefore, the probability that the survey will show a greater percentage of Republican voters in the second state than in the first state is 0.24."
   ]
  },
  {
   "cell_type": "code",
   "execution_count": 17,
   "metadata": {},
   "outputs": [
    {
     "data": {
      "text/plain": [
       "52.0"
      ]
     },
     "metadata": {},
     "output_type": "display_data"
    }
   ],
   "source": [
    "import math\n",
    "import scipy.stats as st\n",
    "\n",
    "# For State 1 Republican Voters 52%\n",
    "P1 = 0.52\n",
    "# For Stare 2 Republican Voters 48%\n",
    "P2 = 0.47\n",
    "\n",
    "# The number of voters sampled from the first state (n1) = 100, \n",
    "n1 = 100\n",
    "# The number of voters sampled from the second state (n2) = 100.\n",
    "n2 = 100\n",
    "\n",
    "n1P1 = n1 * P1\n",
    "display(n1P1)"
   ]
  },
  {
   "cell_type": "code",
   "execution_count": null,
   "metadata": {},
   "outputs": [],
   "source": [
    "# n1negP1 = n1(1 - P1)\n",
    "n1negP1 = n1 * (1 - P1)\n",
    "display(n1negP1)"
   ]
  },
  {
   "cell_type": "code",
   "execution_count": 18,
   "metadata": {},
   "outputs": [
    {
     "data": {
      "text/plain": [
       "47.0"
      ]
     },
     "metadata": {},
     "output_type": "display_data"
    }
   ],
   "source": [
    "n2P2 = n2 * P2 \n",
    "display(n2P2)"
   ]
  },
  {
   "cell_type": "code",
   "execution_count": 19,
   "metadata": {},
   "outputs": [
    {
     "data": {
      "text/plain": [
       "53.0"
      ]
     },
     "metadata": {},
     "output_type": "display_data"
    }
   ],
   "source": [
    "#n2negP2 = n2(1 - P2)\n",
    "n2negP2 = n2 * (1 - P2)\n",
    "display(n2negP2)"
   ]
  },
  {
   "cell_type": "code",
   "execution_count": 20,
   "metadata": {},
   "outputs": [
    {
     "data": {
      "text/plain": [
       "0.050000000000000044"
      ]
     },
     "metadata": {},
     "output_type": "display_data"
    }
   ],
   "source": [
    "# Find the mean of the difference in sample proportions: E(p1 - p2) => Ep1p2 = P1 - P2 = 0.52 - 0.47 = 0.05. \n",
    "Ep1p2 = P1 - P2\n",
    "display(Ep1p2)"
   ]
  },
  {
   "cell_type": "code",
   "execution_count": 21,
   "metadata": {},
   "outputs": [
    {
     "data": {
      "text/plain": [
       "0.004987"
      ]
     },
     "metadata": {},
     "output_type": "display_data"
    }
   ],
   "source": [
    "stdValues = (P1 * (1 - P1) / n1) + ( P2 * (1 - P2) / n2 )\n",
    "display(stdValues)"
   ]
  },
  {
   "cell_type": "code",
   "execution_count": 22,
   "metadata": {},
   "outputs": [
    {
     "data": {
      "text/plain": [
       "0.07061869440877536"
      ]
     },
     "metadata": {},
     "output_type": "display_data"
    }
   ],
   "source": [
    "# Standard Deviation σd = stdDeviation\n",
    "stdDeviation = math.sqrt(stdValues)\n",
    "display(stdDeviation)"
   ]
  },
  {
   "cell_type": "code",
   "execution_count": 23,
   "metadata": {},
   "outputs": [
    {
     "data": {
      "text/plain": [
       "-0.7080278164104213"
      ]
     },
     "metadata": {},
     "output_type": "display_data"
    }
   ],
   "source": [
    "# Transformation appears below.\n",
    "x = 0\n",
    "# zp = zp1 - p2 = (x - μp1 - p2) / σd = = (0 - 0.05)/0.0706 = -0.7082\n",
    "zp = (x - Ep1p2) / stdDeviation\n",
    "display(zp)"
   ]
  },
  {
   "cell_type": "code",
   "execution_count": null,
   "metadata": {},
   "outputs": [],
   "source": [
    "# Using Normal Distribution Calculator, we find P(z <=0.7082) = 0.24 the probability of a z-score being -0.7082 or less is 0.24\n",
    "\n",
    "st.norm.cdf(zp)"
   ]
  },
  {
   "cell_type": "markdown",
   "metadata": {},
   "source": [
    "###### Therefore, the probability that the survey will show a greater percentage of Republican voters in the second state than in the first state is 0.24."
   ]
  },
  {
   "cell_type": "markdown",
   "metadata": {},
   "source": [
    "###### Problem Statement 3:\n",
    "###### You take the SAT and score 1100. The mean score for the SAT is 1026 and the standard deviation is 209. How well did you score on the test compared to the average test taker?"
   ]
  },
  {
   "cell_type": "markdown",
   "metadata": {
    "collapsed": true
   },
   "source": [
    "z = (x - μ) / σ\n",
    "\n",
    "(1100 - 1026) / 209 = .354. This means that your score was .354 std devs above the mean.\n",
    "\n",
    "Look up your z-value in the z-table to see what percentage of test-takers scored below you. A z-score of .354 is .1368 + .5000* = .6368 or 63.68%."
   ]
  },
  {
   "cell_type": "code",
   "execution_count": 14,
   "metadata": {},
   "outputs": [
    {
     "data": {
      "text/plain": [
       "0.35406698564593303"
      ]
     },
     "metadata": {},
     "output_type": "display_data"
    }
   ],
   "source": [
    "import math\n",
    "import scipy.stats as st\n",
    "\n",
    "# SAT Total Score x\n",
    "x = 1100\n",
    "\n",
    "# Mean score μ let we do it as m\n",
    "m = 1026\n",
    "\n",
    "# Standard Deviation σ and let we do it as s\n",
    "s = 209\n",
    "\n",
    "# z = (x - μ) / σ\n",
    "\n",
    "z = (x - m) / s\n",
    "display(z)"
   ]
  },
  {
   "cell_type": "code",
   "execution_count": 16,
   "metadata": {},
   "outputs": [
    {
     "data": {
      "text/plain": [
       "63.835565843531896"
      ]
     },
     "execution_count": 16,
     "metadata": {},
     "output_type": "execute_result"
    }
   ],
   "source": [
    "st.norm.cdf(z)*100\n"
   ]
  },
  {
   "cell_type": "code",
   "execution_count": null,
   "metadata": {},
   "outputs": [],
   "source": []
  }
 ],
 "metadata": {
  "kernelspec": {
   "display_name": "Python 3",
   "language": "python",
   "name": "python3"
  },
  "language_info": {
   "codemirror_mode": {
    "name": "ipython",
    "version": 3
   },
   "file_extension": ".py",
   "mimetype": "text/x-python",
   "name": "python",
   "nbconvert_exporter": "python",
   "pygments_lexer": "ipython3",
   "version": "3.6.5"
  }
 },
 "nbformat": 4,
 "nbformat_minor": 2
}
